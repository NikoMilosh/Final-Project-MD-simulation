{
 "cells": [
  {
   "cell_type": "code",
   "execution_count": 2,
   "id": "392c8032",
   "metadata": {
    "ExecuteTime": {
     "end_time": "2023-01-22T19:45:10.473695Z",
     "start_time": "2023-01-22T19:45:09.763037Z"
    }
   },
   "outputs": [],
   "source": [
    "import time\n",
    "import numpy as np\n",
    "from openmm import app\n",
    "import openmm as mm\n",
    "from openmm import unit as u\n",
    "import pdbfixer\n",
    "from sys import stdout"
   ]
  },
  {
   "cell_type": "code",
   "execution_count": 7,
   "id": "8797d51a",
   "metadata": {
    "ExecuteTime": {
     "end_time": "2023-01-22T19:45:10.868174Z",
     "start_time": "2023-01-22T19:45:10.858247Z"
    }
   },
   "outputs": [],
   "source": [
    "STRIDE = 100 #5000\n",
    "simulations_steps = 10000 #50000000\n",
    "temperature = 300 * u.kelvin\n",
    "platform_name = 'CPU'#'OpenCL' \n",
    "real_time_STRIDE = 1000\n",
    "friction_coeff = 1.0/u.picoseconds\n",
    "time_step = 2.0*u.femtoseconds \n",
    "pressure = 1 * u.bar\n",
    "maxSize=2*u.nanometer\n",
    "geompadding = 3*u.nanometer"
   ]
  },
  {
   "cell_type": "code",
   "execution_count": 8,
   "id": "cafcd46e",
   "metadata": {
    "ExecuteTime": {
     "end_time": "2023-01-22T19:45:13.676028Z",
     "start_time": "2023-01-22T19:45:13.567842Z"
    }
   },
   "outputs": [],
   "source": [
    "# Loading the file into the notebook.\n",
    "pdb_file = 'data/peptide_fixed.pdb'\n",
    "fixer = pdbfixer.PDBFixer(pdb_file)"
   ]
  },
  {
   "cell_type": "code",
   "execution_count": null,
   "id": "a528a7d7",
   "metadata": {},
   "outputs": [],
   "source": []
  },
  {
   "cell_type": "code",
   "execution_count": 9,
   "id": "701403af",
   "metadata": {},
   "outputs": [],
   "source": [
    "vectors = mm.Vec3(1,0,0), mm.Vec3(1/3,2*np.sqrt(2)/3,0), mm.Vec3(-1/3,np.sqrt(2)/3,np.sqrt(6)/3)\n",
    "boxVectors = [(maxSize+geompadding)*v for v in vectors]"
   ]
  },
  {
   "cell_type": "code",
   "execution_count": 10,
   "id": "39ae9447",
   "metadata": {
    "ExecuteTime": {
     "end_time": "2023-01-22T19:45:41.117064Z",
     "start_time": "2023-01-22T19:45:14.315127Z"
    }
   },
   "outputs": [
    {
     "name": "stdout",
     "output_type": "stream",
     "text": [
      "#\"Step\",\"Potential Energy (kJ/mole)\",\"Temperature (K)\",\"Speed (ns/day)\",\"Elapsed Time (s)\"\n",
      "1000,-152690.46680971084,255.27975482713367,0,0.00015282630920410156\n",
      "2000,-149151.82600934093,293.41081984538386,13.2,13.102509021759033\n",
      "3000,-147945.9998107684,294.28973359974304,13,26.52563786506653\n",
      "4000,-148802.6220300707,299.77743054414105,13,39.842286109924316\n",
      "5000,-148248.25655550716,298.3756548403623,13,53.32757496833801\n",
      "6000,-147643.70453877855,304.6883048017305,12.9,66.92929196357727\n",
      "7000,-147701.61894552654,302.758216506575,12.9,80.4095196723938\n",
      "8000,-147793.09257301674,303.87862712692686,12.9,93.82368302345276\n",
      "9000,-148469.57810036556,303.28420118574775,12.9,107.43151688575745\n",
      "10000,-148691.72964441185,298.11603308351334,12.9,120.87017703056335\n"
     ]
    }
   ],
   "source": [
    "# Defining the forcfield and the model\n",
    "forcefield = app.ForceField('amber14-all.xml', 'amber14/tip3pfb.xml')\n",
    "model = app.Modeller(fixer.topology, fixer.positions)\n",
    "model.addSolvent(forcefield,\n",
    "             #padding=1.*u.nanometer,\n",
    "             #boxSize= 'boxType',\n",
    "                 boxVectors= boxVectors,#Box('truncatedOctahedron'),#mm.Vec3(3.0, 3.0, 3.0) * u.nanometers ,\n",
    "             \n",
    "                 model='tip3p', \n",
    "             ionicStrength=0.1 * u.millimolar, \n",
    "             positiveIon='Na+',\n",
    "             negativeIon='Cl-',\n",
    "             neutralize=True )\n",
    "\n",
    "app.PDBFile.writeFile(model.topology,model.positions, open('data/peptide_model_water.pdb', 'w'))###add\n",
    "\n",
    "system = forcefield.createSystem(model.topology, \n",
    "                                 nonbondedMethod=app.PME, \n",
    "                                 nonbondedCutoff=1.2*u.nanometers, #we did 1.0\n",
    "                                 constraints=app.HBonds, \n",
    "                                 rigidWater=True, \n",
    "                                 ewaldErrorTolerance=0.0005)\n",
    "\n",
    "system.addForce(mm.MonteCarloBarostat(pressure, temperature))###add\n",
    "\n",
    "integrator = mm.LangevinIntegrator(temperature,\n",
    "                                   friction_coeff,\n",
    "                                   time_step)\n",
    "integrator.setConstraintTolerance(0.00001)\n",
    "\n",
    "platform = mm.Platform.getPlatformByName(platform_name)\n",
    "simulation = app.Simulation(model.topology, system, integrator, platform)\n",
    "simulation.context.setPositions(model.positions)\n",
    "\n",
    "#start = time.time()###delete\n",
    "#simulation.reporters.append(mm.app.pdbreporter.PDBReporter('data/output.pdb', STRIDE))###delete\n",
    "simulation.reporters.append(mm.app.dcdreporter.DCDReporter('data/output.dcd', STRIDE))###add\n",
    "simulation.reporters.append(mm.app.statedatareporter.StateDataReporter('data/mm.log', STRIDE, step=True, potentialEnergy=True, temperature=True, time=True))\n",
    "simulation.reporters.append(mm.app.statedatareporter.StateDataReporter(stdout, real_time_STRIDE, step=True, potentialEnergy=True, temperature=True, speed=True, elapsedTime=True))\n",
    "simulation.minimizeEnergy()\n",
    "simulation.step(simulations_steps)\n",
    "#end = time.time()\n",
    "\n",
    "#print(f\"Elapsed real time: {end-start} s\")###delete\n",
    "#print(f'I could do {(60*60)/(end-start)*simulations_steps} simulation steps per hour with {simulations_steps/STRIDE} frames saved.')###delete"
   ]
  },
  {
   "cell_type": "code",
   "execution_count": 16,
   "id": "dd3fe774",
   "metadata": {},
   "outputs": [],
   "source": [
    "model.addSolvent?"
   ]
  },
  {
   "cell_type": "code",
   "execution_count": null,
   "id": "b8ce6c06",
   "metadata": {},
   "outputs": [],
   "source": []
  }
 ],
 "metadata": {
  "kernelspec": {
   "display_name": "Python 3 (ipykernel)",
   "language": "python",
   "name": "python3"
  },
  "language_info": {
   "codemirror_mode": {
    "name": "ipython",
    "version": 3
   },
   "file_extension": ".py",
   "mimetype": "text/x-python",
   "name": "python",
   "nbconvert_exporter": "python",
   "pygments_lexer": "ipython3",
   "version": "3.9.7"
  }
 },
 "nbformat": 4,
 "nbformat_minor": 5
}
