{
 "cells": [
  {
   "cell_type": "code",
   "execution_count": 1,
   "id": "392c8032",
   "metadata": {
    "ExecuteTime": {
     "end_time": "2023-01-22T19:45:10.473695Z",
     "start_time": "2023-01-22T19:45:09.763037Z"
    }
   },
   "outputs": [],
   "source": [
    "import time\n",
    "import numpy as np\n",
    "from openmm import app\n",
    "import openmm as mm\n",
    "from openmm import unit as u\n",
    "import pdbfixer\n",
    "from sys import stdout"
   ]
  },
  {
   "cell_type": "code",
   "execution_count": 2,
   "id": "8797d51a",
   "metadata": {
    "ExecuteTime": {
     "end_time": "2023-01-22T19:45:10.868174Z",
     "start_time": "2023-01-22T19:45:10.858247Z"
    }
   },
   "outputs": [],
   "source": [
    "STRIDE = 100\n",
    "simulations_steps = 1000\n",
    "temperature = 300 * u.kelvin\n",
    "platform_name = 'CPU' #'OpenCL'#\n",
    "real_time_STRIDE = 1000\n",
    "friction_coeff = 1.0/u.picoseconds\n",
    "time_step = 2.0*u.femtoseconds"
   ]
  },
  {
   "cell_type": "code",
   "execution_count": 3,
   "id": "cafcd46e",
   "metadata": {
    "ExecuteTime": {
     "end_time": "2023-01-22T19:45:13.676028Z",
     "start_time": "2023-01-22T19:45:13.567842Z"
    }
   },
   "outputs": [],
   "source": [
    "# Loading the file into the notebook.\n",
    "pdb_file = 'data/peptide_fixed.pdb'\n",
    "fixer = pdbfixer.PDBFixer(pdb_file)"
   ]
  },
  {
   "cell_type": "code",
   "execution_count": 4,
   "id": "39ae9447",
   "metadata": {
    "ExecuteTime": {
     "end_time": "2023-01-22T19:45:41.117064Z",
     "start_time": "2023-01-22T19:45:14.315127Z"
    }
   },
   "outputs": [
    {
     "name": "stdout",
     "output_type": "stream",
     "text": [
      "#\"Step\",\"Potential Energy (kJ/mole)\",\"Temperature (K)\",\"Speed (ns/day)\",\"Elapsed Time (s)\"\n",
      "1000,-133739.40244884774,251.55447429153338,--,0.0\n",
      "Elapsed real time: 24.91611957550049 s\n",
      "I could do 144484.77777975536 simulation steps per hour with 10.0 frames saved.\n"
     ]
    }
   ],
   "source": [
    "# Defining the forcfield and the model\n",
    "forcefield = app.ForceField('amber14-all.xml', 'amber14/tip3pfb.xml')\n",
    "model = app.Modeller(fixer.topology, fixer.positions)\n",
    "model.addSolvent(forcefield,\n",
    "             padding=1.*u.nanometer,\n",
    "             model='tip3p', \n",
    "             ionicStrength=0.1 * u.millimolar, \n",
    "             positiveIon='Na+',\n",
    "             negativeIon='Cl-',\n",
    "             neutralize=True )\n",
    "\n",
    "system = forcefield.createSystem(model.topology, \n",
    "                                 nonbondedMethod=app.PME, \n",
    "                                 nonbondedCutoff=1*u.nanometers, \n",
    "                                 constraints=app.HBonds, \n",
    "                                 rigidWater=True, \n",
    "                                 ewaldErrorTolerance=0.0005)\n",
    "\n",
    "integrator = mm.LangevinIntegrator(temperature,\n",
    "                                   friction_coeff,\n",
    "                                   time_step)\n",
    "integrator.setConstraintTolerance(0.00001)\n",
    "\n",
    "platform = mm.Platform.getPlatformByName(platform_name)\n",
    "simulation = app.Simulation(model.topology, system, integrator, platform)\n",
    "simulation.context.setPositions(model.positions)\n",
    "\n",
    "start = time.time()\n",
    "simulation.reporters.append(mm.app.pdbreporter.PDBReporter('data/output.pdb', STRIDE))\n",
    "simulation.reporters.append(mm.app.statedatareporter.StateDataReporter('data/mm.log', STRIDE, step=True, potentialEnergy=True, temperature=True, time=True))\n",
    "simulation.reporters.append(mm.app.statedatareporter.StateDataReporter(stdout, real_time_STRIDE, step=True, potentialEnergy=True, temperature=True, speed=True, elapsedTime=True))\n",
    "simulation.minimizeEnergy()\n",
    "simulation.step(simulations_steps)\n",
    "end = time.time()\n",
    "\n",
    "print(f\"Elapsed real time: {end-start} s\")\n",
    "print(f'I could do {(60*60)/(end-start)*simulations_steps} simulation steps per hour with {simulations_steps/STRIDE} frames saved.')"
   ]
  },
  {
   "cell_type": "code",
   "execution_count": null,
   "id": "b8ce6c06",
   "metadata": {},
   "outputs": [],
   "source": []
  }
 ],
 "metadata": {
  "kernelspec": {
   "display_name": "Python 3 (ipykernel)",
   "language": "python",
   "name": "python3"
  },
  "language_info": {
   "codemirror_mode": {
    "name": "ipython",
    "version": 3
   },
   "file_extension": ".py",
   "mimetype": "text/x-python",
   "name": "python",
   "nbconvert_exporter": "python",
   "pygments_lexer": "ipython3",
   "version": "3.9.12"
  }
 },
 "nbformat": 4,
 "nbformat_minor": 5
}
