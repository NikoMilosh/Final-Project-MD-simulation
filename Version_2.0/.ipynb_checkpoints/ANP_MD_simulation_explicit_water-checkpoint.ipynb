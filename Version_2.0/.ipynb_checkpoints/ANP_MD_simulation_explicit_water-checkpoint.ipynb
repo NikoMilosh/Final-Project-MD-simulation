{
 "cells": [
  {
   "cell_type": "code",
   "execution_count": 5,
   "id": "392c8032",
   "metadata": {
    "ExecuteTime": {
     "end_time": "2023-01-23T15:04:55.295379Z",
     "start_time": "2023-01-23T15:04:55.285046Z"
    }
   },
   "outputs": [],
   "source": [
    "import time\n",
    "import numpy as np\n",
    "from openmm import app\n",
    "import openmm as mm\n",
    "from openmm import unit as u\n",
    "import pdbfixer\n",
    "from sys import stdout"
   ]
  },
  {
   "cell_type": "code",
   "execution_count": 6,
   "id": "8797d51a",
   "metadata": {
    "ExecuteTime": {
     "end_time": "2023-01-23T15:04:55.444564Z",
     "start_time": "2023-01-23T15:04:55.421849Z"
    }
   },
   "outputs": [],
   "source": [
    "STRIDE = 100\n",
    "simulations_steps = 10000\n",
    "temperature = 300 * u.kelvin\n",
    "platform_name = 'CPU'#'OpenCL' \n",
    "real_time_STRIDE = 1000\n",
    "friction_coeff = 1.0/u.picoseconds\n",
    "time_step = 2.0*u.femtoseconds"
   ]
  },
  {
   "cell_type": "code",
   "execution_count": 7,
   "id": "cafcd46e",
   "metadata": {
    "ExecuteTime": {
     "end_time": "2023-01-23T15:04:55.669258Z",
     "start_time": "2023-01-23T15:04:55.547127Z"
    }
   },
   "outputs": [],
   "source": [
    "# Loading the file into the notebook.\n",
    "pdb_file = 'data/peptide_fixed.pdb'\n",
    "fixer = pdbfixer.PDBFixer(pdb_file)"
   ]
  },
  {
   "cell_type": "code",
   "execution_count": 8,
   "id": "39ae9447",
   "metadata": {
    "ExecuteTime": {
     "end_time": "2023-01-23T15:06:30.911417Z",
     "start_time": "2023-01-23T15:04:55.777542Z"
    }
   },
   "outputs": [
    {
     "name": "stdout",
     "output_type": "stream",
     "text": [
      "#\"Step\",\"Potential Energy (kJ/mole)\",\"Temperature (K)\",\"Speed (ns/day)\",\"Elapsed Time (s)\"\n",
      "1000,-134267.12625187865,256.13575903494393,--,0.0\n",
      "2000,-130524.08068469961,292.59004894587883,24,7.200934886932373\n",
      "3000,-130027.02030057537,295.11462986894503,24,14.404328346252441\n",
      "4000,-129010.83041556443,296.8981224214023,24.2,21.4354031085968\n",
      "5000,-129220.964384086,305.187713554717,24.2,28.52867865562439\n",
      "6000,-128511.93558622336,296.8530789239235,24.1,35.81447792053223\n",
      "7000,-128723.76948960451,302.94286566918197,24.1,42.94683480262756\n",
      "8000,-128533.38013831215,301.8911240714617,24.1,50.25991153717041\n",
      "9000,-129386.66332067773,300.62941275795373,24,57.62273454666138\n",
      "10000,-129773.39655592231,301.5721362388712,23.9,65.04771733283997\n"
     ]
    }
   ],
   "source": [
    "# Defining the forcfield and the model\n",
    "forcefield = app.ForceField('amber14-all.xml', 'amber14/tip3pfb.xml')\n",
    "model = app.Modeller(fixer.topology, fixer.positions)\n",
    "model.addSolvent(forcefield,\n",
    "             padding=1.*u.nanometer,\n",
    "             #boxSize=mm.Vec3(3.0, 3.0, 3.0) * u.nanometers ,\n",
    "             model='tip3p', \n",
    "             ionicStrength=0.1 * u.millimolar, \n",
    "             positiveIon='Na+',\n",
    "             negativeIon='Cl-',\n",
    "             neutralize=True )\n",
    "\n",
    "app.PDBFile.writeFile(model.topology,model.positions, open('data/peptide_model_water.pdb', 'w'))###add\n",
    "\n",
    "system = forcefield.createSystem(model.topology, \n",
    "                                 nonbondedMethod=app.PME, \n",
    "                                 nonbondedCutoff=1*u.nanometers, \n",
    "                                 constraints=app.HBonds, \n",
    "                                 rigidWater=True, \n",
    "                                 ewaldErrorTolerance=0.0005)\n",
    "\n",
    "integrator = mm.LangevinIntegrator(temperature,\n",
    "                                   friction_coeff,\n",
    "                                   time_step)\n",
    "integrator.setConstraintTolerance(0.00001)\n",
    "\n",
    "platform = mm.Platform.getPlatformByName(platform_name)\n",
    "simulation = app.Simulation(model.topology, system, integrator, platform)\n",
    "simulation.context.setPositions(model.positions)\n",
    "\n",
    "#start = time.time()###delete\n",
    "#simulation.reporters.append(mm.app.pdbreporter.PDBReporter('data/output.pdb', STRIDE))###delete\n",
    "simulation.reporters.append(mm.app.dcdreporter.DCDReporter('data/output.dcd', STRIDE))###add\n",
    "simulation.reporters.append(mm.app.statedatareporter.StateDataReporter('data/mm.log', STRIDE, step=True, potentialEnergy=True, temperature=True, time=True))\n",
    "simulation.reporters.append(mm.app.statedatareporter.StateDataReporter(stdout, real_time_STRIDE, step=True, potentialEnergy=True, temperature=True, speed=True, elapsedTime=True))\n",
    "simulation.minimizeEnergy()\n",
    "simulation.step(simulations_steps)\n",
    "#end = time.time()\n",
    "\n",
    "#print(f\"Elapsed real time: {end-start} s\")###delete\n",
    "#print(f'I could do {(60*60)/(end-start)*simulations_steps} simulation steps per hour with {simulations_steps/STRIDE} frames saved.')###delete"
   ]
  },
  {
   "cell_type": "code",
   "execution_count": null,
   "id": "947ce31a",
   "metadata": {},
   "outputs": [],
   "source": []
  }
 ],
 "metadata": {
  "kernelspec": {
   "display_name": "Python 3 (ipykernel)",
   "language": "python",
   "name": "python3"
  },
  "language_info": {
   "codemirror_mode": {
    "name": "ipython",
    "version": 3
   },
   "file_extension": ".py",
   "mimetype": "text/x-python",
   "name": "python",
   "nbconvert_exporter": "python",
   "pygments_lexer": "ipython3",
   "version": "3.9.12"
  }
 },
 "nbformat": 4,
 "nbformat_minor": 5
}
