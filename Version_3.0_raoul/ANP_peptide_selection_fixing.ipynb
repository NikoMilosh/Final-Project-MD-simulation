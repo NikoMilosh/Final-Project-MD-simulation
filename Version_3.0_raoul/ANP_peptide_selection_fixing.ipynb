{
 "cells": [
  {
   "cell_type": "code",
   "execution_count": 1,
   "id": "4d6863e8",
   "metadata": {
    "ExecuteTime": {
     "end_time": "2023-01-22T19:44:39.746367Z",
     "start_time": "2023-01-22T19:44:37.978632Z"
    }
   },
   "outputs": [],
   "source": [
    "import mdtraj as md\n",
    "from openmm import app\n",
    "import pdbfixer"
   ]
  },
  {
   "cell_type": "code",
   "execution_count": 2,
   "id": "0c503bd3",
   "metadata": {
    "ExecuteTime": {
     "end_time": "2023-01-22T19:44:40.467339Z",
     "start_time": "2023-01-22T19:44:39.746367Z"
    }
   },
   "outputs": [
    {
     "data": {
      "text/plain": [
       "array([0.00115382], dtype=float32)"
      ]
     },
     "execution_count": 2,
     "metadata": {},
     "output_type": "execute_result"
    }
   ],
   "source": [
    "trajectory = md.load('data/1yk0.pdb')\n",
    "topology = trajectory.top\n",
    "ring_selection = topology.select('chainid 2 ')\n",
    "ring_peptide = trajectory.atom_slice(ring_selection)\n",
    "#test wether peptide from model 1 is equal to model 2\n",
    "md.rmsd(ring_peptide[0],ring_peptide[1]) #since they are the same, we only  need one"
   ]
  },
  {
   "cell_type": "code",
   "execution_count": 3,
   "id": "0cbbff2b",
   "metadata": {
    "ExecuteTime": {
     "end_time": "2023-01-22T19:44:40.494745Z",
     "start_time": "2023-01-22T19:44:40.467339Z"
    }
   },
   "outputs": [],
   "source": [
    "# Selecting the ANP peptide from the first model and saving it as a pdb\n",
    "ring_peptide[0].save('data/ANP_model_1.pdb')"
   ]
  },
  {
   "cell_type": "code",
   "execution_count": 4,
   "id": "9d71ee2d",
   "metadata": {
    "ExecuteTime": {
     "end_time": "2023-01-22T19:44:40.574833Z",
     "start_time": "2023-01-22T19:44:40.495586Z"
    }
   },
   "outputs": [],
   "source": [
    "# Loading the file into the notebook.\n",
    "pdb_file = 'data/ANP_model_1.pdb'\n",
    "fixer = pdbfixer.PDBFixer(pdb_file)"
   ]
  },
  {
   "cell_type": "code",
   "execution_count": 5,
   "id": "ccc8cd32",
   "metadata": {
    "ExecuteTime": {
     "end_time": "2023-01-22T19:44:42.786607Z",
     "start_time": "2023-01-22T19:44:40.574833Z"
    }
   },
   "outputs": [
    {
     "name": "stdout",
     "output_type": "stream",
     "text": [
      "Missing residues:  {}\n",
      "Missing atoms:  {}\n",
      "Nonstandard residues:  []\n"
     ]
    }
   ],
   "source": [
    "# Fixing missing residues and Atoms.\n",
    "fixer.findMissingResidues()\n",
    "print(\"Missing residues: \", fixer.missingResidues)\n",
    "\n",
    "fixer.findMissingAtoms()\n",
    "print(\"Missing atoms: \", fixer.missingAtoms)\n",
    "\n",
    "fixer.findNonstandardResidues()\n",
    "print(\"Nonstandard residues: \", fixer.nonstandardResidues)\n",
    "\n",
    "fixer.addMissingAtoms()\n",
    "fixer.addMissingHydrogens(pH=7.0)\n"
   ]
  },
  {
   "cell_type": "code",
   "execution_count": 6,
   "id": "c2ebe8ce",
   "metadata": {
    "ExecuteTime": {
     "end_time": "2023-01-22T19:44:42.810350Z",
     "start_time": "2023-01-22T19:44:42.786607Z"
    }
   },
   "outputs": [],
   "source": [
    "app.PDBFile.writeFile(fixer.topology,fixer.positions, open('data/peptide_fixed.pdb', 'w'))"
   ]
  },
  {
   "cell_type": "code",
   "execution_count": null,
   "id": "8755da07",
   "metadata": {},
   "outputs": [],
   "source": []
  }
 ],
 "metadata": {
  "kernelspec": {
   "display_name": "Python 3 (ipykernel)",
   "language": "python",
   "name": "python3"
  },
  "language_info": {
   "codemirror_mode": {
    "name": "ipython",
    "version": 3
   },
   "file_extension": ".py",
   "mimetype": "text/x-python",
   "name": "python",
   "nbconvert_exporter": "python",
   "pygments_lexer": "ipython3",
   "version": "3.9.12"
  }
 },
 "nbformat": 4,
 "nbformat_minor": 5
}
