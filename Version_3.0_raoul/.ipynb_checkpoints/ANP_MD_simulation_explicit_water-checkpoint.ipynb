{
 "cells": [
  {
   "cell_type": "code",
   "execution_count": 1,
   "id": "392c8032",
   "metadata": {
    "ExecuteTime": {
     "end_time": "2023-01-23T16:37:15.166820Z",
     "start_time": "2023-01-23T16:37:14.758422Z"
    }
   },
   "outputs": [],
   "source": [
    "import time\n",
    "import numpy as np\n",
    "from openmm import app\n",
    "import openmm as mm\n",
    "from openmm import unit as u\n",
    "import pdbfixer\n",
    "from sys import stdout"
   ]
  },
  {
   "cell_type": "code",
   "execution_count": 2,
   "id": "8797d51a",
   "metadata": {
    "ExecuteTime": {
     "end_time": "2023-01-23T16:37:15.182687Z",
     "start_time": "2023-01-23T16:37:15.166820Z"
    }
   },
   "outputs": [],
   "source": [
    "STRIDE = 100 #5000\n",
    "simulations_steps = 10000 #50000000\n",
    "temperature = 300 * u.kelvin\n",
    "platform_name = 'CPU'#'OpenCL' \n",
    "real_time_STRIDE = 1000\n",
    "friction_coeff = 1.0/u.picoseconds\n",
    "time_step = 2.0*u.femtoseconds \n",
    "pressure = 1 * u.bar"
   ]
  },
  {
   "cell_type": "code",
   "execution_count": 3,
   "id": "cafcd46e",
   "metadata": {
    "ExecuteTime": {
     "end_time": "2023-01-23T16:37:15.238007Z",
     "start_time": "2023-01-23T16:37:15.182687Z"
    }
   },
   "outputs": [],
   "source": [
    "# Loading the file into the notebook.\n",
    "pdb_file = 'data/peptide_fixed.pdb'\n",
    "fixer = pdbfixer.PDBFixer(pdb_file)"
   ]
  },
  {
   "cell_type": "code",
   "execution_count": 4,
   "id": "39ae9447",
   "metadata": {
    "ExecuteTime": {
     "end_time": "2023-01-23T16:39:04.428897Z",
     "start_time": "2023-01-23T16:37:15.242225Z"
    }
   },
   "outputs": [
    {
     "name": "stdout",
     "output_type": "stream",
     "text": [
      "#\"Step\",\"Potential Energy (kJ/mole)\",\"Temperature (K)\",\"Speed (ns/day)\",\"Elapsed Time (s)\"\n",
      "1000,-134201.82643482048,254.57115777542626,--,0.0\n",
      "2000,-130685.18813774968,284.42775723572316,19.1,9.051892518997192\n",
      "3000,-130037.55958959834,295.0232550892084,18.7,18.464579343795776\n",
      "4000,-128921.68671357207,302.99739568100154,18.7,27.762465476989746\n",
      "5000,-129721.78600517807,293.18636638389484,18.5,37.29535150527954\n",
      "6000,-130125.5206259724,300.73707163711555,18.3,47.19412541389465\n",
      "7000,-129816.91432423542,295.9064071974369,18.1,57.305296182632446\n",
      "8000,-129941.83581560517,305.50970973122713,18.1,66.73197865486145\n",
      "9000,-130725.37983055788,302.7668726730497,18.1,76.3856508731842\n",
      "10000,-129877.40262248389,304.32006582264506,18.1,85.78989315032959\n"
     ]
    }
   ],
   "source": [
    "# Defining the forcfield and the model\n",
    "forcefield = app.ForceField('amber14-all.xml', 'amber14/tip3pfb.xml')\n",
    "model = app.Modeller(fixer.topology, fixer.positions)\n",
    "model.addSolvent(forcefield,\n",
    "             padding=1.*u.nanometer,\n",
    "             #boxSize=mm.Vec3(3.0, 3.0, 3.0) * u.nanometers ,\n",
    "             model='tip3p', \n",
    "             ionicStrength=0.1 * u.millimolar, \n",
    "             positiveIon='Na+',\n",
    "             negativeIon='Cl-',\n",
    "             neutralize=True )\n",
    "\n",
    "app.PDBFile.writeFile(model.topology,model.positions, open('data/peptide_model_water.pdb', 'w'))###add\n",
    "\n",
    "system = forcefield.createSystem(model.topology, \n",
    "                                 nonbondedMethod=app.PME, \n",
    "                                 nonbondedCutoff=1.2*u.nanometers, #we did 1.0\n",
    "                                 constraints=app.HBonds, \n",
    "                                 rigidWater=True, \n",
    "                                 ewaldErrorTolerance=0.0005)\n",
    "\n",
    "system.addForce(mm.MonteCarloBarostat(pressure, temperature))###add\n",
    "\n",
    "integrator = mm.LangevinIntegrator(temperature,\n",
    "                                   friction_coeff,\n",
    "                                   time_step)\n",
    "integrator.setConstraintTolerance(0.00001)\n",
    "\n",
    "platform = mm.Platform.getPlatformByName(platform_name)\n",
    "simulation = app.Simulation(model.topology, system, integrator, platform)\n",
    "simulation.context.setPositions(model.positions)\n",
    "\n",
    "#start = time.time()###delete\n",
    "#simulation.reporters.append(mm.app.pdbreporter.PDBReporter('data/output.pdb', STRIDE))###delete\n",
    "simulation.reporters.append(mm.app.dcdreporter.DCDReporter('data/output.dcd', STRIDE))###add\n",
    "simulation.reporters.append(mm.app.statedatareporter.StateDataReporter('data/mm.log', STRIDE, step=True, potentialEnergy=True, temperature=True, time=True))\n",
    "simulation.reporters.append(mm.app.statedatareporter.StateDataReporter(stdout, real_time_STRIDE, step=True, potentialEnergy=True, temperature=True, speed=True, elapsedTime=True))\n",
    "simulation.minimizeEnergy()\n",
    "simulation.step(simulations_steps)\n",
    "#end = time.time()\n",
    "\n",
    "#print(f\"Elapsed real time: {end-start} s\")###delete\n",
    "#print(f'I could do {(60*60)/(end-start)*simulations_steps} simulation steps per hour with {simulations_steps/STRIDE} frames saved.')###delete"
   ]
  },
  {
   "cell_type": "code",
   "execution_count": null,
   "id": "947ce31a",
   "metadata": {},
   "outputs": [],
   "source": []
  }
 ],
 "metadata": {
  "kernelspec": {
   "display_name": "Python 3 (ipykernel)",
   "language": "python",
   "name": "python3"
  },
  "language_info": {
   "codemirror_mode": {
    "name": "ipython",
    "version": 3
   },
   "file_extension": ".py",
   "mimetype": "text/x-python",
   "name": "python",
   "nbconvert_exporter": "python",
   "pygments_lexer": "ipython3",
   "version": "3.9.12"
  }
 },
 "nbformat": 4,
 "nbformat_minor": 5
}
